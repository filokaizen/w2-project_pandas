{
 "cells": [
  {
   "cell_type": "code",
   "execution_count": 3,
   "metadata": {},
   "outputs": [],
   "source": [
    "import pandas as pd\n",
    "import numpy as np\n",
    "\n",
    "\n",
    "data = pd.read_csv('attacks.csv', encoding = 'latin-1')"
   ]
  },
  {
   "cell_type": "code",
   "execution_count": 4,
   "metadata": {},
   "outputs": [
    {
     "data": {
      "text/plain": [
       "Case Number                object\n",
       "Date                       object\n",
       "Year                      float64\n",
       "Type                       object\n",
       "Country                    object\n",
       "Area                       object\n",
       "Location                   object\n",
       "Activity                   object\n",
       "Name                       object\n",
       "Sex                        object\n",
       "Age                        object\n",
       "Injury                     object\n",
       "Fatal (Y/N)                object\n",
       "Time                       object\n",
       "Species                    object\n",
       "Investigator or Source     object\n",
       "pdf                        object\n",
       "href formula               object\n",
       "href                       object\n",
       "Case Number.1              object\n",
       "Case Number.2              object\n",
       "original order            float64\n",
       "Unnamed: 22                object\n",
       "Unnamed: 23                object\n",
       "dtype: object"
      ]
     },
     "execution_count": 4,
     "metadata": {},
     "output_type": "execute_result"
    }
   ],
   "source": [
    "pd.options.display.max_rows # Me enseña todo el número de columnas\n",
    "\n",
    "data.dtypes # observo el tipo de dato de cada columna, las ultimas 2 están vacias "
   ]
  },
  {
   "cell_type": "markdown",
   "metadata": {},
   "source": [
    "#Metodología, "
   ]
  },
  {
   "cell_type": "code",
   "execution_count": 19,
   "metadata": {},
   "outputs": [],
   "source": [
    "data.info\n",
    "data.columns # veo solo las columnas \n",
    "data.columns = [e.lower().strip().replace(\" \", \"\")for e in data.columns]\n",
    "# e.lower : pongo todo en minúsculas\n",
    "#strip, sustituye en ambos lados \n",
    "\n"
   ]
  },
  {
   "cell_type": "code",
   "execution_count": 15,
   "metadata": {},
   "outputs": [
    {
     "name": "stdout",
     "output_type": "stream",
     "text": [
      "<class 'pandas.core.frame.DataFrame'>\n",
      "RangeIndex: 25723 entries, 0 to 25722\n",
      "Data columns (total 24 columns):\n",
      " #   Column                Non-Null Count  Dtype  \n",
      "---  ------                --------------  -----  \n",
      " 0   casenumber            8702 non-null   object \n",
      " 1   date                  6302 non-null   object \n",
      " 2   year                  6300 non-null   float64\n",
      " 3   type                  6298 non-null   object \n",
      " 4   country               6252 non-null   object \n",
      " 5   area                  5847 non-null   object \n",
      " 6   location              5762 non-null   object \n",
      " 7   activity              5758 non-null   object \n",
      " 8   name                  6092 non-null   object \n",
      " 9   sex                   5737 non-null   object \n",
      " 10  age                   3471 non-null   object \n",
      " 11  injury                6274 non-null   object \n",
      " 12  fatal(y/n)            5763 non-null   object \n",
      " 13  time                  2948 non-null   object \n",
      " 14  species               3464 non-null   object \n",
      " 15  investigatororsource  6285 non-null   object \n",
      " 16  pdf                   6302 non-null   object \n",
      " 17  hrefformula           6301 non-null   object \n",
      " 18  href                  6302 non-null   object \n",
      " 19  casenumber.1          6302 non-null   object \n",
      " 20  casenumber.2          6302 non-null   object \n",
      " 21  originalorder         6309 non-null   float64\n",
      " 22  unnamed:22            1 non-null      object \n",
      " 23  unnamed:23            2 non-null      object \n",
      "dtypes: float64(2), object(22)\n",
      "memory usage: 4.7+ MB\n"
     ]
    }
   ],
   "source": [
    "data.info()"
   ]
  },
  {
   "cell_type": "code",
   "execution_count": 1,
   "metadata": {},
   "outputs": [
    {
     "ename": "NameError",
     "evalue": "name 'data' is not defined",
     "output_type": "error",
     "traceback": [
      "\u001b[1;31m---------------------------------------------------------------------------\u001b[0m",
      "\u001b[1;31mNameError\u001b[0m                                 Traceback (most recent call last)",
      "Cell \u001b[1;32mIn[1], line 1\u001b[0m\n\u001b[1;32m----> 1\u001b[0m \u001b[43mdata\u001b[49m\u001b[38;5;241m.\u001b[39mcount() \u001b[38;5;66;03m# veo los registros de cada columna\u001b[39;00m\n",
      "\u001b[1;31mNameError\u001b[0m: name 'data' is not defined"
     ]
    }
   ],
   "source": [
    "data.count() # veo los registros de cada columna"
   ]
  }
 ],
 "metadata": {
  "interpreter": {
   "hash": "37d57b779e2ec7298ac5b7dd683533c4d858b1b1ed81cd40c4a55cab944f2e8d"
  },
  "kernelspec": {
   "display_name": "Python 3.9.12 64-bit (windows store)",
   "language": "python",
   "name": "python3"
  },
  "language_info": {
   "codemirror_mode": {
    "name": "ipython",
    "version": 3
   },
   "file_extension": ".py",
   "mimetype": "text/x-python",
   "name": "python",
   "nbconvert_exporter": "python",
   "pygments_lexer": "ipython3",
   "version": "3.9.13"
  },
  "orig_nbformat": 4
 },
 "nbformat": 4,
 "nbformat_minor": 2
}
